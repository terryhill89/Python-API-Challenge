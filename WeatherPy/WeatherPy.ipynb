{
 "cells": [
  {
   "cell_type": "markdown",
   "metadata": {},
   "source": [
    "# WeatherPy\n",
    "\n",
    "---\n",
    "\n",
    "## Starter Code to Generate Random Geographic Coordinates and a List of Cities"
   ]
  },
  {
   "cell_type": "code",
   "execution_count": 1,
   "metadata": {},
   "outputs": [],
   "source": [
    "\n",
    "# Dependencies and Setup\n",
    "import matplotlib.pyplot as plt\n",
    "import pandas as pd\n",
    "import numpy as np\n",
    "import requests\n",
    "import time\n",
    "from scipy.stats import linregress\n",
    "\n",
    "\n",
    "# Import API key\n",
    "from config import api_key \n",
    "\n",
    "# Incorporated citipy to determine city based on latitude and longitude\n",
    "from citipy import citipy\n",
    "\n",
    "# Output File (CSV)\n",
    "output_data_file = \"output_data/cities.csv\"\n",
    "\n",
    "# Range of latitudes and longitudes\n",
    "lat_range = (-90, 90)\n",
    "lng_range = (-180, 180)"
   ]
  },
  {
   "cell_type": "markdown",
   "metadata": {},
   "source": [
    "### Generate the Cities List by Using the `citipy` Library"
   ]
  },
  {
   "cell_type": "code",
   "execution_count": 4,
   "metadata": {},
   "outputs": [
    {
     "name": "stdout",
     "output_type": "stream",
     "text": [
      "Number of cities in the list: 622\n"
     ]
    }
   ],
   "source": [
    "# Empty list for holding the latitude and longitude combinations\n",
    "lat_lngs = []\n",
    "\n",
    "# Empty list for holding the cities names\n",
    "cities = []\n",
    "\n",
    "# Range of latitudes and longitudes\n",
    "lat_range = (-90, 90)\n",
    "lng_range = (-180, 180)\n",
    "\n",
    "# Create a set of random lat and lng combinations\n",
    "lats = np.random.uniform(lat_range[0], lat_range[1], size=1500)\n",
    "lngs = np.random.uniform(lng_range[0], lng_range[1], size=1500)\n",
    "lat_lngs = zip(lats, lngs)\n",
    "\n",
    "# Identify nearest city for each lat, lng combination\n",
    "for lat_lng in lat_lngs:\n",
    "    city = citipy.nearest_city(lat_lng[0], lat_lng[1]).city_name\n",
    "    \n",
    "    # If the city is unique, then add it to a our cities list\n",
    "    if city not in cities:\n",
    "        cities.append(city)\n",
    "\n",
    "# Print the city count to confirm sufficient count\n",
    "print(f\"Number of cities in the list: {len(cities)}\")"
   ]
  },
  {
   "cell_type": "markdown",
   "metadata": {},
   "source": [
    "---"
   ]
  },
  {
   "cell_type": "markdown",
   "metadata": {},
   "source": [
    "## Requirement 1: Create Plots to Showcase the Relationship Between Weather Variables and Latitude\n",
    "\n",
    "### Use the OpenWeatherMap API to retrieve weather data from the cities list generated in the started code"
   ]
  },
  {
   "cell_type": "code",
   "execution_count": null,
   "metadata": {},
   "outputs": [
    {
     "name": "stdout",
     "output_type": "stream",
     "text": [
      "Beginning Data Retrieval     \n",
      "-----------------------------\n",
      "Processing Record 1 of Set 1 | vilhena\n",
      "Processing Record 2 of Set 1 | khatanga\n",
      "Processing Record 3 of Set 1 | ushuaia\n",
      "Processing Record 4 of Set 1 | fairlie\n",
      "Processing Record 5 of Set 1 | bluff\n",
      "Processing Record 6 of Set 1 | mataura\n",
      "Processing Record 7 of Set 1 | chagda\n",
      "City not found. Skipping...\n",
      "Processing Record 8 of Set 1 | dolbeau\n",
      "City not found. Skipping...\n",
      "Processing Record 9 of Set 1 | chuy\n",
      "Processing Record 10 of Set 1 | punta arenas\n",
      "Processing Record 11 of Set 1 | taolanaro\n",
      "City not found. Skipping...\n",
      "Processing Record 12 of Set 1 | albany\n",
      "Processing Record 13 of Set 1 | xining\n",
      "Processing Record 14 of Set 1 | kavieng\n",
      "Processing Record 15 of Set 1 | whitehorse\n",
      "Processing Record 16 of Set 1 | kapaa\n",
      "Processing Record 17 of Set 1 | manokwari\n",
      "Processing Record 18 of Set 1 | puerto ayora\n",
      "Processing Record 19 of Set 1 | barrow\n",
      "Processing Record 20 of Set 1 | narsaq\n",
      "Processing Record 21 of Set 1 | tarko-sale\n",
      "Processing Record 22 of Set 1 | upernavik\n",
      "Processing Record 23 of Set 1 | baruun-urt\n",
      "Processing Record 24 of Set 1 | port hardy\n",
      "Processing Record 25 of Set 1 | port alfred\n",
      "Processing Record 26 of Set 1 | pangnirtung\n",
      "Processing Record 27 of Set 1 | te anau\n",
      "Processing Record 28 of Set 1 | avarua\n",
      "Processing Record 29 of Set 1 | cherskiy\n",
      "Processing Record 30 of Set 1 | tasiilaq\n",
      "Processing Record 31 of Set 1 | bonavista\n",
      "Processing Record 32 of Set 1 | sentyabrskiy\n",
      "City not found. Skipping...\n",
      "Processing Record 33 of Set 1 | cabo san lucas\n",
      "Processing Record 34 of Set 1 | busselton\n",
      "Processing Record 35 of Set 1 | husavik\n",
      "Processing Record 36 of Set 1 | los llanos de aridane\n",
      "Processing Record 37 of Set 1 | yellowknife\n",
      "Processing Record 38 of Set 1 | saskylakh\n",
      "Processing Record 39 of Set 1 | hithadhoo\n",
      "Processing Record 40 of Set 1 | ponta do sol\n",
      "Processing Record 41 of Set 1 | souillac\n",
      "Processing Record 42 of Set 1 | ossora\n",
      "Processing Record 43 of Set 1 | atuona\n",
      "Processing Record 44 of Set 1 | cururupu\n",
      "Processing Record 45 of Set 1 | east london\n",
      "Processing Record 46 of Set 1 | lata\n",
      "Processing Record 47 of Set 1 | fortuna\n",
      "Processing Record 48 of Set 1 | slonim\n",
      "Processing Record 49 of Set 1 | kaitangata\n",
      "Processing Record 50 of Set 1 | naze\n",
      "Processing Record 0 of Set 2 | bredasdorp\n",
      "Processing Record 1 of Set 2 | tiksi\n",
      "Processing Record 2 of Set 2 | lolua\n",
      "City not found. Skipping...\n",
      "Processing Record 3 of Set 2 | new norfolk\n",
      "Processing Record 4 of Set 2 | asayita\n",
      "City not found. Skipping...\n",
      "Processing Record 5 of Set 2 | grindavik\n",
      "Processing Record 6 of Set 2 | illoqqortoormiut\n",
      "City not found. Skipping...\n",
      "Processing Record 7 of Set 2 | vorobyevka\n",
      "Processing Record 8 of Set 2 | hilo\n",
      "Processing Record 9 of Set 2 | hermanus\n",
      "Processing Record 10 of Set 2 | mount isa\n",
      "Processing Record 11 of Set 2 | kirovskiy\n",
      "Processing Record 12 of Set 2 | roma\n",
      "Processing Record 13 of Set 2 | harlingen\n",
      "Processing Record 14 of Set 2 | ust-kuyga\n",
      "Processing Record 15 of Set 2 | caraquet\n",
      "Processing Record 16 of Set 2 | fuerte olimpo\n",
      "Processing Record 17 of Set 2 | melfi\n",
      "Processing Record 18 of Set 2 | haibowan\n",
      "City not found. Skipping...\n",
      "Processing Record 19 of Set 2 | cape town\n",
      "Processing Record 20 of Set 2 | bambanglipuro\n",
      "Processing Record 21 of Set 2 | karaul\n",
      "City not found. Skipping...\n",
      "Processing Record 22 of Set 2 | clyde river\n",
      "Processing Record 23 of Set 2 | salinas\n",
      "Processing Record 24 of Set 2 | saint-augustin\n",
      "Processing Record 25 of Set 2 | auki\n",
      "Processing Record 26 of Set 2 | zhanaozen\n",
      "Processing Record 27 of Set 2 | rikitea\n",
      "Processing Record 28 of Set 2 | hobart\n",
      "Processing Record 29 of Set 2 | faanui\n"
     ]
    }
   ],
   "source": [
    "# Set the API base URL\n",
    "url = \"https://api.openweathermap.org/data/2.5/weather?\"\n",
    "units =\"imperial\"\n",
    "\n",
    "# Define an empty list to fetch the weather data for each city\n",
    "city_data = []\n",
    "\n",
    "# Print to logger\n",
    "print(\"Beginning Data Retrieval     \")\n",
    "print(\"-----------------------------\")\n",
    "\n",
    "# Create counters\n",
    "record_count = 1\n",
    "set_count = 1\n",
    "\n",
    "# Loop through all the cities in our list to fetch weather data\n",
    "for i, city in enumerate(cities):\n",
    "        \n",
    "    # Group cities in sets of 50 for logging purposes\n",
    "    if (i % 50 == 0 and i >= 50):\n",
    "        set_count += 1\n",
    "        record_count = 0\n",
    "\n",
    "    # Create endpoint URL with each city\n",
    "    city_url = f\"{url}appid={api_key}&units={units}&q={city}\"\n",
    "    \n",
    "    # Log the url, record, and set numbers\n",
    "    print(\"Processing Record %s of Set %s | %s\" % (record_count, set_count, city))\n",
    "\n",
    "    # Add 1 to the record count\n",
    "    record_count += 1\n",
    "\n",
    "    # Run an API request for each of the cities\n",
    "    try:\n",
    "        # Parse the JSON and retrieve data\n",
    "        city_weather = requests.get(city_url).json()\n",
    "\n",
    "        # Parse out latitude, longitude, max temp, humidity, cloudiness, wind speed, country, and date\n",
    "        city_lat = city_weather['coord'][\"lat\"]\n",
    "        city_lng = city_weather['coord'][\"lon\"]\n",
    "        city_max_temp = city_weather['main'][\"temp_max\"]\n",
    "        city_humidity = city_weather['main'][\"humidity\"]\n",
    "        city_clouds = city_weather['clouds'][\"all\"]\n",
    "        city_wind = city_weather['wind'][\"speed\"]\n",
    "        city_country = city_weather['sys'][\"country\"]\n",
    "        city_date = city_weather['dt']\n",
    "\n",
    "        # Append the City information into city_data list\n",
    "        city_data.append({\"City\": city, \n",
    "                          \"Lat\": city_lat, \n",
    "                          \"Lng\": city_lng, \n",
    "                          \"Max Temp\": city_max_temp,\n",
    "                          \"Humidity\": city_humidity,\n",
    "                          \"Cloudiness\": city_clouds,\n",
    "                          \"Wind Speed\": city_wind,\n",
    "                          \"Country\": city_country,\n",
    "                          \"Date\": city_date})\n",
    "\n",
    "    # If an error is experienced, skip the city\n",
    "    except:\n",
    "        print(\"City not found. Skipping...\")\n",
    "        pass\n",
    "              \n",
    "# Indicate that Data Loading is complete \n",
    "print(\"-----------------------------\")\n",
    "print(\"Data Retrieval Complete      \")\n",
    "print(\"-----------------------------\")"
   ]
  },
  {
   "cell_type": "code",
   "execution_count": null,
   "metadata": {},
   "outputs": [],
   "source": [
    "# Convert the cities weather data into a Pandas DataFrame\n",
    "city_data_df = pd.DataFrame(city_data)\n",
    "\n",
    "\n",
    "# Show Record Count\n",
    "city_data_df.count()"
   ]
  },
  {
   "cell_type": "code",
   "execution_count": null,
   "metadata": {},
   "outputs": [],
   "source": [
    "# Display sample data\n",
    "city_data_df.head()"
   ]
  },
  {
   "cell_type": "code",
   "execution_count": null,
   "metadata": {},
   "outputs": [],
   "source": [
    "# Export the City_Data into a csv\n",
    "city_data_df.to_csv(\"output_data/cities.csv\", index_label=\"City_ID\")"
   ]
  },
  {
   "cell_type": "code",
   "execution_count": null,
   "metadata": {},
   "outputs": [],
   "source": [
    "# Read saved data\n",
    "city_data_df = pd.read_csv(\"output_data/cities.csv\", index_col=\"City_ID\")\n",
    "\n",
    "# Display sample data\n",
    "city_data_df.head()"
   ]
  },
  {
   "cell_type": "markdown",
   "metadata": {},
   "source": [
    "### Create the Scatter Plots Requested\n",
    "\n",
    "#### Latitude Vs. Temperature"
   ]
  },
  {
   "cell_type": "code",
   "execution_count": null,
   "metadata": {
    "tags": []
   },
   "outputs": [],
   "source": [
    "\n",
    "# Build scatter plot for latitude vs. temperature\n",
    "plt.scatter(city_data_df['Lat'],city_data_df['Max Temp'], marker ='^', s=20, c='r', edgecolors='black', alpha=0.75)\n",
    "\n",
    "# Incorporate the other graph properties\n",
    "plt.title('City Latitude vs Max Temp')\n",
    "plt.ylabel('Max Temperature')\n",
    "plt.xlabel('Latitude')\n",
    "plt.grid(True)\n",
    "# Save the figure\n",
    "plt.savefig(\"output_data/Fig1.png\")\n",
    "\n",
    "# Show plot\n",
    "plt.show()"
   ]
  },
  {
   "cell_type": "markdown",
   "metadata": {},
   "source": [
    "#### Latitude Vs. Humidity"
   ]
  },
  {
   "cell_type": "code",
   "execution_count": null,
   "metadata": {},
   "outputs": [],
   "source": [
    "# Build the scatter plots for latitude vs. humidity\n",
    "plt.scatter(city_data_df['Lat'],city_data_df['Humidity'], marker ='^', s=20, c='r', edgecolors='black', alpha=0.75)\n",
    "\n",
    "# Incorporate the other graph properties\n",
    "plt.title('City Latitude vs Humditity')\n",
    "plt.ylabel('Humidity %')\n",
    "plt.xlabel('Latitude')\n",
    "plt.grid(True)\n",
    "\n",
    "# Incorporate the other graph properties\n",
    "# YOUR CODE HERE\n",
    "\n",
    "# Save the figure\n",
    "plt.savefig(\"output_data/Fig2.png\")\n",
    "\n",
    "# Show plot\n",
    "plt.show()"
   ]
  },
  {
   "cell_type": "markdown",
   "metadata": {},
   "source": [
    "#### Latitude Vs. Cloudiness"
   ]
  },
  {
   "cell_type": "code",
   "execution_count": null,
   "metadata": {},
   "outputs": [],
   "source": [
    "# Build the scatter plots for latitude vs. cloudiness\n",
    "plt.scatter(city_data_df['Lat'],city_data_df['Cloudiness'], marker ='^', s=20, c='r', edgecolors='black', alpha=0.75)\n",
    "\n",
    "# Incorporate the other graph properties\n",
    "plt.title('City Latitude vs Cloudiness')\n",
    "plt.ylabel('Cloudines %')\n",
    "plt.xlabel('Latitude')\n",
    "plt.grid(True)\n",
    "\n",
    "# Save the figure\n",
    "plt.savefig(\"output_data/Fig3.png\")\n",
    "\n",
    "# Show plot"
   ]
  },
  {
   "cell_type": "markdown",
   "metadata": {},
   "source": [
    "#### Latitude vs. Wind Speed Plot"
   ]
  },
  {
   "cell_type": "code",
   "execution_count": null,
   "metadata": {},
   "outputs": [],
   "source": [
    "plt.scatter(city_data_df['Lat'],city_data_df['Wind Speed'], marker ='^', s=20, c='r', edgecolors='black', alpha=0.75)\n",
    "\n",
    "# Incorporate the other graph properties\n",
    "plt.title('City Latitude vs Wind Speed')\n",
    "plt.ylabel('Wind Speed mph')\n",
    "plt.xlabel('Latitude')\n",
    "plt.grid(True)\n",
    "plt.savefig(\"output_data/Fig4.png\")\n",
    "\n",
    "# Show plot\n",
    "plt.show()"
   ]
  },
  {
   "cell_type": "markdown",
   "metadata": {},
   "source": [
    "---\n",
    "\n",
    "## Requirement 2: Compute Linear Regression for Each Relationship\n"
   ]
  },
  {
   "cell_type": "code",
   "execution_count": null,
   "metadata": {},
   "outputs": [],
   "source": [
    "# Define a function to create Linear Regression plots\n",
    "x_values = city_data_df['Lat']\n",
    "y_values = city_data_df['Max Temp']\n",
    "\n",
    "\n",
    "(slope, intercept, rvalue, pvalue, stderr) = linregress(x_values, y_values)\n",
    "regress_values = x_values * slope + intercept\n",
    "\n",
    "equation_line= \"y = \" + str(round(slope,2)) + \"x + \" + str(round(intercept,2))\n",
    "\n",
    "print(equation_line)\n",
    "\n",
    "\n",
    "\n",
    "# Add the linear regression equation and line to plot\n",
    "fig1, ax1 = plt.subplots(figsize=(15, 10))\n",
    "plt.scatter(x_values,y_values,s=175, color=\"blue\")\n",
    "plt.plot(x_values,regress_values,\"r-\")\n",
    "plt.title('Max Temp vs Latitude',fontsize =20)\n",
    "plt.xlabel('Latitude',fontsize =10)\n",
    "plt.ylabel('',fontsize =10)\n",
    "\n",
    "\n",
    "print(f\"The r-squared is: {rvalue**2}\")"
   ]
  },
  {
   "cell_type": "code",
   "execution_count": null,
   "metadata": {},
   "outputs": [],
   "source": [
    "# Create a DataFrame with the Northern Hemisphere data (Latitude >= 0)\n",
    "northern_hemi = city_data_df[city_data_df[\"Lat\"]>=0]\n",
    "northern_hemi_df = pd.DataFrame(northern_hemi)\n",
    "\n",
    "# Display sample data\n",
    "northern_hemi_df.head()"
   ]
  },
  {
   "cell_type": "code",
   "execution_count": null,
   "metadata": {},
   "outputs": [],
   "source": [
    "# Create a DataFrame with the Southern Hemisphere data (Latitude < 0)\n",
    "southern_hemi = city_data_df[city_data_df[\"Lat\"]<0]\n",
    "southern_hemi_df = pd.DataFrame(southern_hemi)\n",
    "\n",
    "\n",
    "# Display sample data\n",
    "southern_hemi_df.head()"
   ]
  },
  {
   "cell_type": "markdown",
   "metadata": {},
   "source": [
    "###  Temperature vs. Latitude Linear Regression Plot"
   ]
  },
  {
   "cell_type": "code",
   "execution_count": null,
   "metadata": {},
   "outputs": [],
   "source": [
    "# Linear regression on Northern Hemisphere\n",
    "\n",
    "x_values = northern_hemi_df['Lat']\n",
    "y_values = northern_hemi_df['Max Temp']\n",
    "\n",
    "(slope, intercept, rvalue, pvalue, stderr) = linregress(x_values, y_values)\n",
    "regress_values = x_values * slope + intercept\n",
    "\n",
    "equation_line= \"y = \" + str(round(slope,2)) + \"x + \" + str(round(intercept,2))\n",
    "\n",
    "print(equation_line)\n",
    "print(f\"The r-squared is: {rvalue**2}\")\n",
    "\n",
    "plt.scatter(x_values,y_values, marker ='o', s=20, c='green', edgecolors='black', alpha=0.75)\n",
    "plt.title('Northern Hemisphere: City Latitude vs Max Temp')\n",
    "plt.ylabel('Max Temperature (F)')\n",
    "plt.xlabel('Latitude')\n",
    "plt.grid(True)\n",
    "plt.plot(x_values,regress_values,\"r-\")\n",
    "plt.annotate(equation_line,(5.8,2), fontsize=15, color='b')\n",
    "plt.show()"
   ]
  },
  {
   "cell_type": "code",
   "execution_count": null,
   "metadata": {},
   "outputs": [],
   "source": [
    "# Linear regression on Southern Hemisphere\n",
    "x_values = southern_hemi_df['Lat']\n",
    "y_values = southern_hemi_df['Max Temp']\n",
    "\n",
    "(slope, intercept, rvalue, pvalue, stderr) = linregress(x_values, y_values)\n",
    "regress_values = x_values * slope + intercept\n",
    "\n",
    "equation_line= \"y = \" + str(round(slope,2)) + \"x + \" + str(round(intercept,2))\n",
    "\n",
    "print(equation_line)\n",
    "print(f\"The r-squared is: {rvalue**2}\")\n",
    "\n",
    "plt.scatter(x_values,y_values, marker ='o', s=20, c='green', edgecolors='black', alpha=0.75)\n",
    "plt.title('Southern Hemisphere: City Latitude vs Max Temp')\n",
    "plt.ylabel('Max Temperature (F)')\n",
    "plt.xlabel('Latitude')\n",
    "plt.grid(True)\n",
    "plt.plot(x_values,regress_values,\"r-\")\n",
    "plt.annotate(equation_line,(5.8,2), fontsize=15, color='b')\n",
    "plt.show()"
   ]
  },
  {
   "cell_type": "markdown",
   "metadata": {},
   "source": [
    "**Discussion about the linear relationship:** The Northern Hemisphere has a  moderate relationship between Max Temp and Latitude of r value of 0.75. The Southern Hemisphere, is still has a weak relationship between Max Temp and Latitude value of r value of 0.21"
   ]
  },
  {
   "cell_type": "markdown",
   "metadata": {},
   "source": [
    "### Humidity vs. Latitude Linear Regression Plot"
   ]
  },
  {
   "cell_type": "code",
   "execution_count": null,
   "metadata": {},
   "outputs": [],
   "source": [
    "# Northern Hemisphere\n",
    "x_values = northern_hemi_df['Lat']\n",
    "y_values = northern_hemi_df['Humidity']\n",
    "\n",
    "(slope, intercept, rvalue, pvalue, stderr) = linregress(x_values, y_values)\n",
    "regress_values = x_values * slope + intercept\n",
    "\n",
    "equation_line= \"y = \" + str(round(slope,2)) + \"x + \" + str(round(intercept,2))\n",
    "\n",
    "print(equation_line)\n",
    "print(f\"The r-squared is: {rvalue**2}\")\n",
    "\n",
    "plt.scatter(x_values,y_values, marker ='o', s=20, c='green', edgecolors='black', alpha=0.75)\n",
    "plt.title('Northern Hemisphere: City Latitude vs Humidity')\n",
    "plt.ylabel('Humidity %')\n",
    "plt.xlabel('Latitude')\n",
    "plt.grid(True)\n",
    "plt.plot(x_values,regress_values,\"r-\")\n",
    "plt.annotate(equation_line,(5.8,2), fontsize=15, color='b')\n",
    "plt.show()"
   ]
  },
  {
   "cell_type": "code",
   "execution_count": null,
   "metadata": {},
   "outputs": [],
   "source": [
    "# Southern Hemisphere\n",
    "x_values = southern_hemi_df['Lat']\n",
    "y_values = southern_hemi_df['Humidity']\n",
    "\n",
    "(slope, intercept, rvalue, pvalue, stderr) = linregress(x_values, y_values)\n",
    "regress_values = x_values * slope + intercept\n",
    "\n",
    "equation_line= \"y = \" + str(round(slope,2)) + \"x + \" + str(round(intercept,2))\n",
    "\n",
    "print(equation_line)\n",
    "print(f\"The r-squared is: {rvalue**2}\")\n",
    "\n",
    "plt.scatter(x_values,y_values, marker ='o', s=20, c='green', edgecolors='black', alpha=0.75)\n",
    "plt.title('Southern Hemisphere: City Latitude vs Humidity')\n",
    "plt.ylabel('Humidity %')\n",
    "plt.xlabel('Latitude')\n",
    "plt.grid(True)\n",
    "plt.plot(x_values,regress_values,\"r-\")\n",
    "plt.annotate(equation_line,(-40,20), fontsize=15, color='b')\n",
    "plt.show()"
   ]
  },
  {
   "cell_type": "markdown",
   "metadata": {},
   "source": [
    "**Discussion about the linear relationship:** none the relationship is weak between the Latitude and Humidity based on the determined r-value for both southern and northern hemisphere."
   ]
  },
  {
   "cell_type": "markdown",
   "metadata": {},
   "source": [
    "### Cloudiness vs. Latitude Linear Regression Plot"
   ]
  },
  {
   "cell_type": "code",
   "execution_count": null,
   "metadata": {},
   "outputs": [],
   "source": [
    "# Northern Hemisphere\n",
    "x_values = northern_hemi_df['Lat']\n",
    "y_values = northern_hemi_df['Cloudiness']\n",
    "\n",
    "(slope, intercept, rvalue, pvalue, stderr) = linregress(x_values, y_values)\n",
    "regress_values = x_values * slope + intercept\n",
    "\n",
    "equation_line= \"y = \" + str(round(slope,2)) + \"x + \" + str(round(intercept,2))\n",
    "\n",
    "print(equation_line)\n",
    "print(f\"The r-squared is: {rvalue**2}\")\n",
    "\n",
    "plt.scatter(x_values,y_values, marker ='o', s=20, c='green', edgecolors='black', alpha=0.75)\n",
    "plt.title('Northern Hemisphere: City Latitude vs Cloudiness')\n",
    "plt.ylabel('Cloudiness %')\n",
    "plt.xlabel('Latitude')\n",
    "plt.grid(True)\n",
    "plt.plot(x_values,regress_values,\"r-\")\n",
    "plt.annotate(equation_line,(4.5,80), fontsize=15, color='b')\n",
    "plt.show()"
   ]
  },
  {
   "cell_type": "code",
   "execution_count": null,
   "metadata": {},
   "outputs": [],
   "source": [
    "# Southern Hemisphere\n",
    "x_values = southern_hemi_df['Lat']\n",
    "y_values = southern_hemi_df['Cloudiness']\n",
    "\n",
    "(slope, intercept, rvalue, pvalue, stderr) = linregress(x_values, y_values)\n",
    "regress_values = x_values * slope + intercept\n",
    "\n",
    "equation_line= \"y = \" + str(round(slope,2)) + \"x + \" + str(round(intercept,2))\n",
    "\n",
    "print(equation_line)\n",
    "print(f\"The r-squared is: {rvalue**2}\")\n",
    "\n",
    "plt.scatter(x_values,y_values, marker ='o', s=20, c='green', edgecolors='black', alpha=0.75)\n",
    "plt.title('Southern Hemisphere: City Latitude vs Cloudiness')\n",
    "plt.ylabel('Cloudiness %')\n",
    "plt.xlabel('Latitude')\n",
    "plt.grid(True)\n",
    "plt.plot(x_values,regress_values,\"r-\")\n",
    "plt.annotate(equation_line,(-40,25), fontsize=15, color='b')\n",
    "plt.show()"
   ]
  },
  {
   "cell_type": "markdown",
   "metadata": {},
   "source": [
    "**Discussion about the linear relationship:** both graphs show no linear relationship between Latitude and cloudines"
   ]
  },
  {
   "cell_type": "markdown",
   "metadata": {},
   "source": [
    "### Wind Speed vs. Latitude Linear Regression Plot"
   ]
  },
  {
   "cell_type": "code",
   "execution_count": null,
   "metadata": {},
   "outputs": [],
   "source": [
    "# Northern Hemisphere\n",
    "x_values = northern_hemi_df['Lat']\n",
    "y_values = northern_hemi_df['Wind Speed']\n",
    "\n",
    "(slope, intercept, rvalue, pvalue, stderr) = linregress(x_values, y_values)\n",
    "regress_values = x_values * slope + intercept\n",
    "\n",
    "equation_line= \"y = \" + str(round(slope,2)) + \"x + \" + str(round(intercept,2))\n",
    "\n",
    "print(equation_line)\n",
    "print(f\"The r-squared is: {rvalue**2}\")\n",
    "\n",
    "plt.scatter(x_values,y_values, marker ='o', s=20, c='green', edgecolors='black', alpha=0.75)\n",
    "plt.title('Northern Hemisphere: City Latitude vs Wind Speed')\n",
    "plt.ylabel('Wind Speed (mph)')\n",
    "plt.xlabel('Latitude')\n",
    "plt.grid(True)\n",
    "plt.plot(x_values,regress_values,\"r-\")\n",
    "plt.annotate(equation_line,(5.8,40), fontsize=15, color='b')\n",
    "plt.show()"
   ]
  },
  {
   "cell_type": "code",
   "execution_count": null,
   "metadata": {},
   "outputs": [],
   "source": [
    "# Southern Hemisphere\n",
    "\n",
    "x_values = southern_hemi_df['Lat']\n",
    "y_values = southern_hemi_df['Wind Speed']\n",
    "\n",
    "(slope, intercept, rvalue, pvalue, stderr) = linregress(x_values, y_values)\n",
    "regress_values = x_values * slope + intercept\n",
    "\n",
    "equation_line= \"y = \" + str(round(slope,2)) + \"x + \" + str(round(intercept,2))\n",
    "\n",
    "print(equation_line)\n",
    "print(f\"The r-squared is: {rvalue**2}\")\n",
    "\n",
    "plt.scatter(x_values,y_values, marker ='o', s=20, c='green', edgecolors='black', alpha=0.75)\n",
    "plt.title('Southern Hemisphere: City Latitude vs Wind Speed')\n",
    "plt.ylabel('Wind Speed (mph)')\n",
    "plt.xlabel('Latitude')\n",
    "plt.grid(True)\n",
    "plt.plot(x_values,regress_values,\"r-\")\n",
    "plt.annotate(equation_line,(-40,25), fontsize=15, color='b')\n",
    "plt.show()"
   ]
  },
  {
   "cell_type": "markdown",
   "metadata": {},
   "source": [
    "**Discussion about the linear relationship: No Relationship - The linear regresion shows a much lower correlation than it appears. There is no linear relationship between Latitude and Wind Speed. Based on the the r-value which are low."
   ]
  },
  {
   "cell_type": "code",
   "execution_count": null,
   "metadata": {},
   "outputs": [],
   "source": []
  }
 ],
 "metadata": {
  "anaconda-cloud": {},
  "kernel_info": {
   "name": "python3"
  },
  "kernelspec": {
   "display_name": "PythonData",
   "language": "python",
   "name": "pythondata"
  },
  "language_info": {
   "codemirror_mode": {
    "name": "ipython",
    "version": 3
   },
   "file_extension": ".py",
   "mimetype": "text/x-python",
   "name": "python",
   "nbconvert_exporter": "python",
   "pygments_lexer": "ipython3",
   "version": "3.7.7"
  },
  "latex_envs": {
   "LaTeX_envs_menu_present": true,
   "autoclose": false,
   "autocomplete": true,
   "bibliofile": "biblio.bib",
   "cite_by": "apalike",
   "current_citInitial": 1,
   "eqLabelWithNumbers": true,
   "eqNumInitial": 1,
   "hotkeys": {
    "equation": "Ctrl-E",
    "itemize": "Ctrl-I"
   },
   "labels_anchors": false,
   "latex_user_defs": false,
   "report_style_numbering": false,
   "user_envs_cfg": false
  },
  "nteract": {
   "version": "0.12.3"
  }
 },
 "nbformat": 4,
 "nbformat_minor": 4
}
